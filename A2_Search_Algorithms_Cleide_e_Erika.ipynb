{
  "cells": [
    {
      "cell_type": "markdown",
      "metadata": {
        "id": "view-in-github",
        "colab_type": "text"
      },
      "source": [
        "<a href=\"https://colab.research.google.com/github/CleideLustosa/AtividadeEntregaLogProgTicTrilha/blob/main/A2_Search_Algorithms_Cleide_e_Erika.ipynb\" target=\"_parent\"><img src=\"https://colab.research.google.com/assets/colab-badge.svg\" alt=\"Open In Colab\"/></a>"
      ]
    },
    {
      "cell_type": "markdown",
      "metadata": {
        "id": "40b90843"
      },
      "source": [
        "<img src=\"http://meusite.mackenzie.br/rogerio/mackenzie_logo/UPM.2_horizontal_vermelho.jpg\"  width=300, align=\"right\">\n",
        "<br>\n",
        "<br>\n",
        "<br>\n",
        "<br>\n",
        "<br>\n",
        "\n",
        "# **Search Algorithms**\n",
        "---\n"
      ]
    },
    {
      "cell_type": "code",
      "execution_count": null,
      "metadata": {
        "cellView": "form",
        "id": "rYx9D4GZA5o9"
      },
      "outputs": [],
      "source": [
        "#@title **Identificação do Grupo**\n",
        "\n",
        "#@markdown Integrantes do Grupo, nome completo em orgem alfabética (*informe \\<RA\\>,\\<nome\\>*)\n",
        "Aluno1 = '10409459, Cleide Lustosa de Oliveira da Silva' #@param {type:\"string\"}\n",
        "Aluno2 = '10403716, Erika Borges Piaui' #@param {type:\"string\"}\n",
        "Aluno3 = 'None' #@param {type:\"string\"}\n",
        "Aluno4 = 'None' #@param {type:\"string\"}\n",
        "Aluno5 = 'None' #@param {type:\"string\"}\n",
        "\n"
      ]
    },
    {
      "cell_type": "markdown",
      "metadata": {
        "id": "JlCIc2YooBW7"
      },
      "source": [
        "# **Resumo**\n",
        "\n",
        "Nesta entrega, modelamos um grafo não direcionado do estado de São Paulo, ligando cidades paulistas às suas vizinhas. Os pesos das arestas representam as distâncias aproximadas entre as cidades (em km). O grafo foi construído no NetworkX e visualizado com os rótulos de custos nas arestas. Na entrega final, utilizaremos o algoritmo de Dijkstra para encontrar o caminho de menor custo entre cidades em um grafo ponderado (sem pesos negativos)."
      ]
    },
    {
      "cell_type": "markdown",
      "metadata": {
        "id": "FyFHbT8vygVp"
      },
      "source": [
        "# **Implementação**\n",
        "\n",
        "*Aqui o código da sua solução. Você deve explicar em linhas gerais o código. Para isso você pode quebrar o código em algumas partes e incluir células de texto explicativos. Não empregue para isso comentários no corpo do código, mas crie células de texto do notebook.*\n",
        "\n",
        "> ***ATENÇÃO: O código deve ser 100% executável no Colab e, portanto, não devem ser empregados arquivos locais (da sua máquina) e, se necessário, devem ser incluídos o install de novas bibliotecas empregadas.***\n",
        "\n"
      ]
    },
    {
      "cell_type": "markdown",
      "metadata": {
        "id": "FfqBeY18MU2l"
      },
      "source": [
        "## **1. Grafo das cidades (2,0)**"
      ]
    },
    {
      "cell_type": "markdown",
      "metadata": {
        "id": "qq31QHrh_7Vi"
      },
      "source": [
        "Importando as bibliotecas necessárias para a atividade:"
      ]
    },
    {
      "cell_type": "code",
      "execution_count": 1,
      "metadata": {
        "id": "Z-SXgKaw_7Vi"
      },
      "outputs": [],
      "source": [
        "import networkx as nx\n",
        "import matplotlib.pyplot as plt"
      ]
    },
    {
      "cell_type": "markdown",
      "metadata": {
        "id": "pJGl9PGQ_7Vj"
      },
      "source": [
        "Definição do grafo com cidades de São Paulo e suas vizinhas:"
      ]
    },
    {
      "cell_type": "code",
      "execution_count": 2,
      "metadata": {
        "id": "-4-hxfyl_7Vj"
      },
      "outputs": [],
      "source": [
        "grafo_cidades_sp = {\n",
        "    'São Paulo': ['Campinas', 'Santos', 'Sorocaba', 'São José dos Campos'],\n",
        "    'Campinas': ['São Paulo', 'Sorocaba', 'Ribeirão Preto'],\n",
        "    'Santos': ['São Paulo', 'Sorocaba'],\n",
        "    'Sorocaba': ['São Paulo', 'Campinas', 'Bauru'],\n",
        "    'São José dos Campos': ['São Paulo', 'Taubaté'],\n",
        "    'Ribeirão Preto': ['Campinas', 'Bauru'],\n",
        "    'Bauru': ['Sorocaba', 'Ribeirão Preto'],\n",
        "    'Taubaté': ['São José dos Campos']\n",
        "}"
      ]
    },
    {
      "cell_type": "markdown",
      "metadata": {
        "id": "YpjXnoog_7Vj"
      },
      "source": [
        "Definição dos pesos do grafo (distâncias aproximadas em km) das arestas:"
      ]
    },
    {
      "cell_type": "code",
      "execution_count": 3,
      "metadata": {
        "id": "ZoxepwoW_7Vj"
      },
      "outputs": [],
      "source": [
        "\n",
        "distancias_km = {\n",
        "    ('São Paulo','Campinas'): 99,\n",
        "    ('São Paulo','Santos'): 75,\n",
        "    ('São Paulo','Sorocaba'): 100,\n",
        "    ('São Paulo','São José dos Campos'): 97,\n",
        "    ('Campinas','Sorocaba'): 103,\n",
        "    ('Campinas','Ribeirão Preto'): 220,\n",
        "    ('Santos','Sorocaba'): 150,\n",
        "    ('Sorocaba','Bauru'): 260,\n",
        "    ('Ribeirão Preto','Bauru'): 180,\n",
        "    ('São José dos Campos','Taubaté'): 45\n",
        "}"
      ]
    },
    {
      "cell_type": "markdown",
      "metadata": {
        "id": "yW90ate-_7Vk"
      },
      "source": [
        "Construindo o grafo (não direcionado) e adicionando as distâncias:"
      ]
    },
    {
      "cell_type": "code",
      "execution_count": 4,
      "metadata": {
        "id": "IZP5fMzu_7Vk"
      },
      "outputs": [],
      "source": [
        "G = nx.Graph()\n",
        "for cidade, vizinhos in grafo_cidades_sp.items():\n",
        "    for v in vizinhos:\n",
        "        w = distancias_km.get((cidade, v), distancias_km.get((v, cidade), None))\n",
        "        if w is None:\n",
        "            continue\n",
        "        G.add_edge(cidade, v, weight=w)"
      ]
    },
    {
      "cell_type": "markdown",
      "metadata": {
        "id": "JAGa6mD3_7Vk"
      },
      "source": [
        "Visualização do grafo:"
      ]
    },
    {
      "cell_type": "code",
      "execution_count": 5,
      "metadata": {
        "colab": {
          "base_uri": "https://localhost:8080/",
          "height": 659
        },
        "id": "vNZc2i_B_7Vk",
        "outputId": "b255c404-4a04-4c96-f585-26924dd4abd5"
      },
      "outputs": [
        {
          "output_type": "display_data",
          "data": {
            "text/plain": [
              "<Figure size 800x600 with 1 Axes>"
            ],
            "image/png": "[encoded data removed]"
          },
          "metadata": {}
        }
      ],
      "source": [
        "plt.figure(figsize=(8,6))\n",
        "pos = nx.spring_layout(G, seed=7)\n",
        "nx.draw(G, pos, with_labels=True, node_size=1200, node_color='#e6ffe6', font_size=9)\n",
        "rotulos = nx.get_edge_attributes(G, 'weight')\n",
        "nx.draw_networkx_edge_labels(G, pos, edge_labels=rotulos, font_size=8)\n",
        "plt.title('Grafo de cidades de São Paulo com distâncias (km)')\n",
        "plt.show()"
      ]
    },
    {
      "cell_type": "markdown",
      "metadata": {
        "id": "vO9xbwBTJDQ7"
      },
      "source": [
        "> ## **1.1. Resultados (Testes)**\n",
        "\n",
        "*Um ou mais testes da solução devem ser apresentados ao final. Comente em células de texto explicativas os testes e os seus resultados.*"
      ]
    },
    {
      "cell_type": "markdown",
      "metadata": {
        "id": "_EZzu-9j_7Vk"
      },
      "source": [
        "Teste 1: Listar as cidades do grafo"
      ]
    },
    {
      "cell_type": "code",
      "execution_count": 6,
      "metadata": {
        "colab": {
          "base_uri": "https://localhost:8080/"
        },
        "id": "qiiQYpjd_7Vk",
        "outputId": "b4b26aee-3095-49c2-bc29-08b068305fdb"
      },
      "outputs": [
        {
          "output_type": "stream",
          "name": "stdout",
          "text": [
            "Cidades no grafo SP: Bauru, Campinas, Ribeirão Preto, Santos, Sorocaba, São José dos Campos, São Paulo, Taubaté\n"
          ]
        }
      ],
      "source": [
        "print('Cidades no grafo SP:', ', '.join(sorted(list(G.nodes()))))"
      ]
    },
    {
      "cell_type": "markdown",
      "metadata": {
        "id": "9-IjT4gR_7Vl"
      },
      "source": [
        "Teste 2: Consultando as distâncias"
      ]
    },
    {
      "cell_type": "code",
      "execution_count": 7,
      "metadata": {
        "colab": {
          "base_uri": "https://localhost:8080/"
        },
        "id": "IUZ65RIR_7Vl",
        "outputId": "07775e54-7cc5-4c89-8946-b081e0762ddd"
      },
      "outputs": [
        {
          "output_type": "stream",
          "name": "stdout",
          "text": [
            "Campinas - Ribeirão Preto: 220 km\n",
            "Campinas - Sorocaba: 103 km\n",
            "Ribeirão Preto - Bauru: 180 km\n",
            "Santos - Sorocaba: 150 km\n",
            "Sorocaba - Bauru: 260 km\n",
            "São José dos Campos - Taubaté: 45 km\n",
            "São Paulo - Campinas: 99 km\n",
            "São Paulo - Santos: 75 km\n",
            "São Paulo - Sorocaba: 100 km\n",
            "São Paulo - São José dos Campos: 97 km\n"
          ]
        }
      ],
      "source": [
        "for (u, v), w in sorted(distancias_km.items()):\n",
        "    print(f'{u} - {v}: {w} km')"
      ]
    },
    {
      "cell_type": "markdown",
      "metadata": {
        "id": "J6s1CGhZ_7Vl"
      },
      "source": [
        "SINALIZAÇÃO DO ALGORITMO QUE SERÁ USADO PARA A ENTREGA FINAL (Dijkstra)"
      ]
    },
    {
      "cell_type": "code",
      "execution_count": 8,
      "metadata": {
        "colab": {
          "base_uri": "https://localhost:8080/"
        },
        "id": "2hhJlJxG_7Vl",
        "outputId": "ec472cfc-282b-423b-bf91-29835c3365fb"
      },
      "outputs": [
        {
          "output_type": "stream",
          "name": "stdout",
          "text": [
            "\n",
            "Algoritmo informado para a próxima etapa: Dijkstra (menor caminho com pesos não negativos).\n"
          ]
        }
      ],
      "source": [
        "print('\\nAlgoritmo informado para a próxima etapa: Dijkstra (menor caminho com pesos não negativos).')"
      ]
    },
    {
      "cell_type": "markdown",
      "metadata": {
        "id": "6yaBdE9xMvUG"
      },
      "source": [
        "## **2. BFS, Breadth-First Search(2,0)**"
      ]
    },
    {
      "cell_type": "code",
      "execution_count": 9,
      "metadata": {
        "id": "V16vzWA_MvUH"
      },
      "outputs": [],
      "source": [
        "from collections import deque\n",
        "\n",
        "class No:\n",
        "    def __init__(self, estado, pai=None):\n",
        "        self.estado = estado\n",
        "        self.pai = pai\n",
        "\n",
        "    def caminho(self):\n",
        "        no, caminho = self, []\n",
        "        while no is not None:\n",
        "            caminho.append(no.estado)\n",
        "            no = no.pai\n",
        "        return list(reversed(caminho))\n",
        "\n",
        "\n",
        "class Grafo:\n",
        "    def __init__(self, adjacencias):\n",
        "        self.adjacencias = adjacencias\n",
        "\n",
        "    def vizinhos(self, estado):\n",
        "        return self.adjacencias.get(estado, [])\n",
        "\n",
        "\n",
        "def busca_bfs(grafo, inicio, objetivo):\n",
        "    raiz = No(inicio)\n",
        "    fila = deque([raiz])\n",
        "    visitados = set([inicio])\n",
        "\n",
        "    print(f\"Iniciando BFS de {inicio} até {objetivo}\\n\")\n",
        "\n",
        "    while fila:\n",
        "        no_atual = fila.popleft()\n",
        "        print(f\"Explorando: {no_atual.estado}\")\n",
        "\n",
        "        if no_atual.estado == objetivo:\n",
        "            print(\"\\nObjetivo encontrado!\")\n",
        "            return no_atual.caminho()\n",
        "\n",
        "        for vizinho in grafo.vizinhos(no_atual.estado):\n",
        "            if vizinho not in visitados:\n",
        "                print(f\"  - Adicionando vizinho: {vizinho}\")\n",
        "                visitados.add(vizinho)\n",
        "                fila.append(No(vizinho, no_atual))\n",
        "\n",
        "        print(f\"Fila atual: {[n.estado for n in fila]}\\n\")\n",
        "\n",
        "    print(\"Objetivo não encontrado.\")\n",
        "    return None\n"
      ]
    },
    {
      "cell_type": "markdown",
      "source": [
        "### Questão 2 - Busca em Largura (BFS) no grafo de cidades de São Paulo\n",
        "\n",
        "Utilizamos para Busca em Largura (BFS), exploramos os vizinhos do nó inicial primeiro,\n",
        "depois os vizinhos dos vizinhos, e assim sucessivamente.  \n",
        "O algoritmo utilizando uma **fila (FIFO)** para garantir essa ordem.\n"
      ],
      "metadata": {
        "id": "F1poBMKtdrhh"
      }
    },
    {
      "cell_type": "markdown",
      "metadata": {
        "id": "G2_xtN1jMvUI"
      },
      "source": [
        "> ## **2.1. Resultados (Testes)**\n",
        "\n",
        "*Um ou mais testes da solução devem ser apresentados ao final. Comente em células de texto explicativas os testes e os seus resultados.*"
      ]
    },
    {
      "cell_type": "markdown",
      "source": [
        "Teste 1 - BFS no grafo de cidades de SP - São Paulo até Bauru"
      ],
      "metadata": {
        "id": "VpJCNXRfxypl"
      }
    },
    {
      "cell_type": "code",
      "source": [
        "grafo = Grafo(grafo_cidades_sp)\n",
        "\n",
        "print(\"Busca 1: São Paulo -> São José dos Campos\\n\")\n",
        "caminho1 = busca_bfs(grafo, \"São Paulo\", \"São José dos Campos\")\n",
        "print(\"Caminho encontrado:\", caminho1)\n",
        "\n",
        "\n"
      ],
      "metadata": {
        "colab": {
          "base_uri": "https://localhost:8080/"
        },
        "id": "NDQNBASHwRp_",
        "outputId": "c999bb10-3a4c-472f-d772-114717ec7919"
      },
      "execution_count": 15,
      "outputs": [
        {
          "output_type": "stream",
          "name": "stdout",
          "text": [
            "Busca 1: São Paulo -> São José dos Campos\n",
            "\n",
            "Iniciando BFS de São Paulo até São José dos Campos\n",
            "\n",
            "Explorando: São Paulo\n",
            "  - Adicionando vizinho: Campinas\n",
            "  - Adicionando vizinho: Santos\n",
            "  - Adicionando vizinho: Sorocaba\n",
            "  - Adicionando vizinho: São José dos Campos\n",
            "Fila atual: ['Campinas', 'Santos', 'Sorocaba', 'São José dos Campos']\n",
            "\n",
            "Explorando: Campinas\n",
            "  - Adicionando vizinho: Ribeirão Preto\n",
            "Fila atual: ['Santos', 'Sorocaba', 'São José dos Campos', 'Ribeirão Preto']\n",
            "\n",
            "Explorando: Santos\n",
            "Fila atual: ['Sorocaba', 'São José dos Campos', 'Ribeirão Preto']\n",
            "\n",
            "Explorando: Sorocaba\n",
            "  - Adicionando vizinho: Bauru\n",
            "Fila atual: ['São José dos Campos', 'Ribeirão Preto', 'Bauru']\n",
            "\n",
            "Explorando: São José dos Campos\n",
            "\n",
            "Objetivo encontrado!\n",
            "Caminho encontrado: ['São Paulo', 'São José dos Campos']\n"
          ]
        }
      ]
    },
    {
      "cell_type": "markdown",
      "source": [
        "Teste 2 - BFS no grafo de cidades de SP - São Paulo até Sorocaba"
      ],
      "metadata": {
        "id": "Dt8zpXSYyAbc"
      }
    },
    {
      "cell_type": "code",
      "source": [
        "print(\"Busca 2: São Paulo -> Sorocaba\\n\")\n",
        "caminho2 = busca_bfs(grafo, \"São Paulo\", \"Sorocaba\")\n",
        "print(\"Caminho encontrado:\", caminho2)"
      ],
      "metadata": {
        "colab": {
          "base_uri": "https://localhost:8080/"
        },
        "id": "wrHFx2iaxpc9",
        "outputId": "9363b2f8-6258-4c9b-da91-036518632301"
      },
      "execution_count": 13,
      "outputs": [
        {
          "output_type": "stream",
          "name": "stdout",
          "text": [
            "Busca 2: São Paulo -> Sorocaba\n",
            "\n",
            "Iniciando BFS de São Paulo até Sorocaba\n",
            "\n",
            "Explorando: São Paulo\n",
            "  - Adicionando vizinho: Campinas\n",
            "  - Adicionando vizinho: Santos\n",
            "  - Adicionando vizinho: Sorocaba\n",
            "  - Adicionando vizinho: São José dos Campos\n",
            "Fila atual: ['Campinas', 'Santos', 'Sorocaba', 'São José dos Campos']\n",
            "\n",
            "Explorando: Campinas\n",
            "  - Adicionando vizinho: Ribeirão Preto\n",
            "Fila atual: ['Santos', 'Sorocaba', 'São José dos Campos', 'Ribeirão Preto']\n",
            "\n",
            "Explorando: Santos\n",
            "Fila atual: ['Sorocaba', 'São José dos Campos', 'Ribeirão Preto']\n",
            "\n",
            "Explorando: Sorocaba\n",
            "\n",
            "Objetivo encontrado!\n",
            "Caminho encontrado: ['São Paulo', 'Sorocaba']\n"
          ]
        }
      ]
    },
    {
      "cell_type": "markdown",
      "metadata": {
        "id": "Ryo3PeXoMwFc"
      },
      "source": [
        "## **3. Busca Informada (5,0)**"
      ]
    },
    {
      "cell_type": "markdown",
      "metadata": {
        "id": "De9VgoNINL4c"
      },
      "source": [
        "### Questão 3 - Busca Informada com o Algoritmo de Dijkstra\n",
        "\n",
        "Escolhemos o algoritmo de **Dijkstra** porque ele encontra o menor caminho\n",
        "em grafos com **pesos não negativos**, como é o caso das distâncias entre cidades.  \n",
        "\n",
        "Iniciamos a distância do ponto de partida considerando 0, enquanto todos os outros começam com distância infinita, escolhemos o nó que tem a menor distância e que ainda não tinha sido visitado.\n",
        "\n",
        "Em seguida verificamos os vizinhos desse nó e atualizamos as distâncias caso haja um caminho mais curto. Esse processo é refeito até que o destino seja final."
      ]
    },
    {
      "cell_type": "code",
      "execution_count": 28,
      "metadata": {
        "id": "39FwjR_uMwFd"
      },
      "outputs": [],
      "source": [
        "import heapq\n",
        "\n",
        "class Grafo:\n",
        "    def __init__(self, adjacencias, distancias):\n",
        "        self.adjacencias = adjacencias\n",
        "        self.distancias = distancias\n",
        "\n",
        "    def vizinhos(self, estado):\n",
        "        return self.adjacencias.get(estado, [])\n",
        "\n",
        "    def peso(self, u, v):\n",
        "        return self.distancias.get((u, v), self.distancias.get((v, u), None))\n",
        "\n",
        "def dijkstra(grafo, inicio, objetivo):\n",
        "    fila = [(0, inicio, [])]\n",
        "    visitados = set()\n",
        "\n",
        "    while fila:\n",
        "        dist_atual, no_atual, caminho = heapq.heappop(fila)\n",
        "\n",
        "        if no_atual in visitados:\n",
        "            continue\n",
        "\n",
        "        caminho = caminho + [no_atual]\n",
        "        visitados.add(no_atual)\n",
        "\n",
        "        if no_atual == objetivo:\n",
        "            return dist_atual, caminho\n",
        "\n",
        "        for vizinho in grafo.vizinhos(no_atual):\n",
        "            if vizinho not in visitados:\n",
        "                peso = grafo.peso(no_atual, vizinho)\n",
        "                if peso is not None:\n",
        "                    heapq.heappush(fila, (dist_atual + peso, vizinho, caminho))\n",
        "\n",
        "    return float('inf'), []\n",
        "\n",
        "\n"
      ]
    },
    {
      "cell_type": "markdown",
      "source": [
        "Definição do Grafo e Distâncias"
      ],
      "metadata": {
        "id": "f0IZLJFF4vbu"
      }
    },
    {
      "cell_type": "code",
      "source": [
        "grafo_cidades_sp = {\n",
        "    'São Paulo': ['Campinas', 'Santos', 'Sorocaba', 'São José dos Campos'],\n",
        "    'Campinas': ['São Paulo', 'Sorocaba', 'Ribeirão Preto'],\n",
        "    'Santos': ['São Paulo', 'Sorocaba'],\n",
        "    'Sorocaba': ['São Paulo', 'Campinas', 'Bauru'],\n",
        "    'São José dos Campos': ['São Paulo', 'Taubaté', 'Campos do Jordão'],\n",
        "    'Ribeirão Preto': ['Campinas', 'Bauru'],\n",
        "    'Bauru': ['Sorocaba', 'Ribeirão Preto'],\n",
        "    'Taubaté': ['São José dos Campos'],\n",
        "    'Campos do Jordão': ['São José dos Campos']\n",
        "}\n",
        "\n",
        "distancias_km = {\n",
        "    ('São Paulo','Campinas'): 99,\n",
        "    ('São Paulo','Santos'): 75,\n",
        "    ('São Paulo','Sorocaba'): 100,\n",
        "    ('São Paulo','São José dos Campos'): 97,\n",
        "    ('Campinas','Sorocaba'): 103,\n",
        "    ('Campinas','Ribeirão Preto'): 220,\n",
        "    ('Santos','Sorocaba'): 150,\n",
        "    ('Sorocaba','Bauru'): 260,\n",
        "    ('Ribeirão Preto','Bauru'): 180,\n",
        "    ('São José dos Campos','Taubaté'): 45,\n",
        "    ('São José dos Campos','Campos do Jordão'): 70\n",
        "}\n",
        "\n",
        "grafo = Grafo(grafo_cidades_sp, distancias_km)\n"
      ],
      "metadata": {
        "id": "yWAgT5Aj4r61"
      },
      "execution_count": 29,
      "outputs": []
    },
    {
      "cell_type": "markdown",
      "metadata": {
        "id": "WxOx8CikMwFe"
      },
      "source": [
        "> ## **3.1. Resultados (Testes)**\n",
        "\n",
        "*Um ou mais testes da solução devem ser apresentados ao final. Comente em células de texto explicativas os testes e os seus resultados.*"
      ]
    },
    {
      "cell_type": "markdown",
      "source": [
        "Teste 1 - São Paulo - CAmpos do Jordão"
      ],
      "metadata": {
        "id": "EeiOej346GaM"
      }
    },
    {
      "cell_type": "code",
      "execution_count": 30,
      "metadata": {
        "id": "kZgIdUM0MwFf",
        "colab": {
          "base_uri": "https://localhost:8080/"
        },
        "outputId": "8497ef02-e9ed-450c-c008-9289878c2148"
      },
      "outputs": [
        {
          "output_type": "stream",
          "name": "stdout",
          "text": [
            "Teste 1: São Paulo -> Campos do Jordão\n",
            "\n",
            "Menor distância: 167 km\n",
            "Caminho: São Paulo -> São José dos Campos -> Campos do Jordão\n"
          ]
        }
      ],
      "source": [
        "print(\"Teste 1: São Paulo -> Campos do Jordão\\n\")\n",
        "distancia, caminho = dijkstra(grafo, \"São Paulo\", \"Campos do Jordão\")\n",
        "print(\"Menor distância:\", distancia, \"km\")\n",
        "print(\"Caminho:\", \" -> \".join(caminho))\n"
      ]
    },
    {
      "cell_type": "markdown",
      "source": [
        "Teste 2 - São Paulo - Sorocaba"
      ],
      "metadata": {
        "id": "Nqf_gK5v6R48"
      }
    },
    {
      "cell_type": "code",
      "source": [
        "print(\"\\nTeste 2: São Paulo -> Sorocaba\\n\")\n",
        "distancia, caminho = dijkstra(grafo, \"São Paulo\", \"Sorocaba\")\n",
        "print(\"Menor distância:\", distancia, \"km\")\n",
        "print(\"Caminho:\", \" -> \".join(caminho))\n"
      ],
      "metadata": {
        "colab": {
          "base_uri": "https://localhost:8080/"
        },
        "id": "7C5XO2xu6L1j",
        "outputId": "ae2928ce-134d-4fba-c914-bb98da7e20b3"
      },
      "execution_count": 31,
      "outputs": [
        {
          "output_type": "stream",
          "name": "stdout",
          "text": [
            "\n",
            "Teste 2: São Paulo -> Sorocaba\n",
            "\n",
            "Menor distância: 100 km\n",
            "Caminho: São Paulo -> Sorocaba\n"
          ]
        }
      ]
    },
    {
      "cell_type": "markdown",
      "metadata": {
        "id": "7LtXrRFr4hg3"
      },
      "source": [
        "# **Referências**\n",
        "\n",
        "Este é um item obrigatório. Inclua aqui o as referências, fontes, ou bibliografia e sites/bibliotecas empregadas em formato ABNT.\n",
        "\n",
        "- ESTADOSECAPITAISDOBRASIL. Cidades de São Paulo. Disponível em: <https://www.estadosecapitaisdobrasil.com/cidades-de-sao-paulo/>. Acesso em: 3 set. 2025.\n",
        "\n",
        "- Russell, S., Norvig, P., & Intelligence, A. (1995). A modern approach. Artificial Intelligence. Prentice-Hall, Egnlewood Cliffs, 25(27), 79-80. https://aima.cs.berkeley.edu/\n",
        "\n",
        "- RUSSELL, Stuart; NORVIG, Peter. Artificial Intelligence: A Modern Approach. 4. ed. Pearson, 2020. ISBN 978-0134610993. 94-101."
      ]
    },
    {
      "cell_type": "markdown",
      "metadata": {
        "id": "8crUBC3IQ3U_"
      },
      "source": [
        "---"
      ]
    },
    {
      "cell_type": "code",
      "execution_count": 32,
      "metadata": {
        "cellView": "form",
        "id": "BluFtfHuCGzm"
      },
      "outputs": [],
      "source": [
        "#@title **Avaliação**\n",
        "Resumo = 10 #@param {type:\"slider\", min:0, max:10, step:1}\n",
        "\n",
        "Grafo = 9 #@param {type:\"slider\", min:0, max:10, step:1}\n",
        "\n",
        "BFS = 6 #@param {type:\"slider\", min:0, max:10, step:1}\n",
        "\n",
        "Busca_Informada = 8 #@param {type:\"slider\", min:0, max:10, step:1}\n",
        "\n",
        "Referencias = 7 #@param {type:\"slider\", min:0, max:10, step:1}\n",
        "\n",
        "Geral = 7 #@param {type:\"slider\", min:0, max:10, step:1}\n",
        "\n",
        "\n",
        "\n",
        "\n",
        "\n",
        "\n"
      ]
    },
    {
      "cell_type": "code",
      "execution_count": null,
      "metadata": {
        "cellView": "form",
        "colab": {
          "base_uri": "https://localhost:8080/",
          "height": 160
        },
        "id": "2Gqw7hUZHyle",
        "outputId": "ec8f2df6-a121-4a2c-9972-e6a8f38b9bf7"
      },
      "outputs": [
        {
          "name": "stdout",
          "output_type": "stream",
          "text": [
            "Nota final do trabalho 7.7\n",
            "\n"
          ]
        },
        {
          "data": {
            "application/vnd.google.colaboratory.intrinsic+json": {
              "summary": "{\n  \"name\": \"alunos\",\n  \"rows\": 2,\n  \"fields\": [\n    {\n      \"column\": \"tia\",\n      \"properties\": {\n        \"dtype\": \"string\",\n        \"num_unique_values\": 2,\n        \"samples\": [\n          \"1115677\",\n          \"1115665\"\n        ],\n        \"semantic_type\": \"\",\n        \"description\": \"\"\n      }\n    },\n    {\n      \"column\": \"nome\",\n      \"properties\": {\n        \"dtype\": \"string\",\n        \"num_unique_values\": 2,\n        \"samples\": [\n          \" DANIEL HENRIQUE\",\n          \" ADRIANA FUJITA\"\n        ],\n        \"semantic_type\": \"\",\n        \"description\": \"\"\n      }\n    },\n    {\n      \"column\": \"nota\",\n      \"properties\": {\n        \"dtype\": \"number\",\n        \"std\": 0.0,\n        \"min\": 7.7,\n        \"max\": 7.7,\n        \"num_unique_values\": 1,\n        \"samples\": [\n          7.7\n        ],\n        \"semantic_type\": \"\",\n        \"description\": \"\"\n      }\n    }\n  ]\n}",
              "type": "dataframe",
              "variable_name": "alunos"
            },
            "text/html": [
              "\n",
              "  <div id=\"df-c02535b9-79d8-490e-a9b1-f1d7f4a1be14\" class=\"colab-df-container\">\n",
              "    <div>\n",
              "<style scoped>\n",
              "    .dataframe tbody tr th:only-of-type {\n",
              "        vertical-align: middle;\n",
              "    }\n",
              "\n",
              "    .dataframe tbody tr th {\n",
              "        vertical-align: top;\n",
              "    }\n",
              "\n",
              "    .dataframe thead th {\n",
              "        text-align: right;\n",
              "    }\n",
              "</style>\n",
              "<table border=\"1\" class=\"dataframe\">\n",
              "  <thead>\n",
              "    <tr style=\"text-align: right;\">\n",
              "      <th></th>\n",
              "      <th>tia</th>\n",
              "      <th>nome</th>\n",
              "      <th>nota</th>\n",
              "    </tr>\n",
              "  </thead>\n",
              "  <tbody>\n",
              "    <tr>\n",
              "      <th>0</th>\n",
              "      <td>1115665</td>\n",
              "      <td>ADRIANA FUJITA</td>\n",
              "      <td>7.7</td>\n",
              "    </tr>\n",
              "    <tr>\n",
              "      <th>1</th>\n",
              "      <td>1115677</td>\n",
              "      <td>DANIEL HENRIQUE</td>\n",
              "      <td>7.7</td>\n",
              "    </tr>\n",
              "  </tbody>\n",
              "</table>\n",
              "</div>\n",
              "    <div class=\"colab-df-buttons\">\n",
              "\n",
              "  <div class=\"colab-df-container\">\n",
              "    <button class=\"colab-df-convert\" onclick=\"convertToInteractive('df-c02535b9-79d8-490e-a9b1-f1d7f4a1be14')\"\n",
              "            title=\"Convert this dataframe to an interactive table.\"\n",
              "            style=\"display:none;\">\n",
              "\n",
              "  <svg xmlns=\"http://www.w3.org/2000/svg\" height=\"24px\" viewBox=\"0 -960 960 960\">\n",
              "    <path d=\"M120-120v-720h720v720H120Zm60-500h600v-160H180v160Zm220 220h160v-160H400v160Zm0 220h160v-160H400v160ZM180-400h160v-160H180v160Zm440 0h160v-160H620v160ZM180-180h160v-160H180v160Zm440 0h160v-160H620v160Z\"/>\n",
              "  </svg>\n",
              "    </button>\n",
              "\n",
              "  <style>\n",
              "    .colab-df-container {\n",
              "      display:flex;\n",
              "      gap: 12px;\n",
              "    }\n",
              "\n",
              "    .colab-df-convert {\n",
              "      background-color: #E8F0FE;\n",
              "      border: none;\n",
              "      border-radius: 50%;\n",
              "      cursor: pointer;\n",
              "      display: none;\n",
              "      fill: #1967D2;\n",
              "      height: 32px;\n",
              "      padding: 0 0 0 0;\n",
              "      width: 32px;\n",
              "    }\n",
              "\n",
              "    .colab-df-convert:hover {\n",
              "      background-color: #E2EBFA;\n",
              "      box-shadow: 0px 1px 2px rgba(60, 64, 67, 0.3), 0px 1px 3px 1px rgba(60, 64, 67, 0.15);\n",
              "      fill: #174EA6;\n",
              "    }\n",
              "\n",
              "    .colab-df-buttons div {\n",
              "      margin-bottom: 4px;\n",
              "    }\n",
              "\n",
              "    [theme=dark] .colab-df-convert {\n",
              "      background-color: #3B4455;\n",
              "      fill: #D2E3FC;\n",
              "    }\n",
              "\n",
              "    [theme=dark] .colab-df-convert:hover {\n",
              "      background-color: #434B5C;\n",
              "      box-shadow: 0px 1px 3px 1px rgba(0, 0, 0, 0.15);\n",
              "      filter: drop-shadow(0px 1px 2px rgba(0, 0, 0, 0.3));\n",
              "      fill: #FFFFFF;\n",
              "    }\n",
              "  </style>\n",
              "\n",
              "    <script>\n",
              "      const buttonEl =\n",
              "        document.querySelector('#df-c02535b9-79d8-490e-a9b1-f1d7f4a1be14 button.colab-df-convert');\n",
              "      buttonEl.style.display =\n",
              "        google.colab.kernel.accessAllowed ? 'block' : 'none';\n",
              "\n",
              "      async function convertToInteractive(key) {\n",
              "        const element = document.querySelector('#df-c02535b9-79d8-490e-a9b1-f1d7f4a1be14');\n",
              "        const dataTable =\n",
              "          await google.colab.kernel.invokeFunction('convertToInteractive',\n",
              "                                                    [key], {});\n",
              "        if (!dataTable) return;\n",
              "\n",
              "        const docLinkHtml = 'Like what you see? Visit the ' +\n",
              "          '<a target=\"_blank\" href=https://colab.research.google.com/notebooks/data_table.ipynb>data table notebook</a>'\n",
              "          + ' to learn more about interactive tables.';\n",
              "        element.innerHTML = '';\n",
              "        dataTable['output_type'] = 'display_data';\n",
              "        await google.colab.output.renderOutput(dataTable, element);\n",
              "        const docLink = document.createElement('div');\n",
              "        docLink.innerHTML = docLinkHtml;\n",
              "        element.appendChild(docLink);\n",
              "      }\n",
              "    </script>\n",
              "  </div>\n",
              "\n",
              "\n",
              "<div id=\"df-d549a65d-dcca-4332-a206-81d4cc5dfa4f\">\n",
              "  <button class=\"colab-df-quickchart\" onclick=\"quickchart('df-d549a65d-dcca-4332-a206-81d4cc5dfa4f')\"\n",
              "            title=\"Suggest charts\"\n",
              "            style=\"display:none;\">\n",
              "\n",
              "<svg xmlns=\"http://www.w3.org/2000/svg\" height=\"24px\"viewBox=\"0 0 24 24\"\n",
              "     width=\"24px\">\n",
              "    <g>\n",
              "        <path d=\"M19 3H5c-1.1 0-2 .9-2 2v14c0 1.1.9 2 2 2h14c1.1 0 2-.9 2-2V5c0-1.1-.9-2-2-2zM9 17H7v-7h2v7zm4 0h-2V7h2v10zm4 0h-2v-4h2v4z\"/>\n",
              "    </g>\n",
              "</svg>\n",
              "  </button>\n",
              "\n",
              "<style>\n",
              "  .colab-df-quickchart {\n",
              "      --bg-color: #E8F0FE;\n",
              "      --fill-color: #1967D2;\n",
              "      --hover-bg-color: #E2EBFA;\n",
              "      --hover-fill-color: #174EA6;\n",
              "      --disabled-fill-color: #AAA;\n",
              "      --disabled-bg-color: #DDD;\n",
              "  }\n",
              "\n",
              "  [theme=dark] .colab-df-quickchart {\n",
              "      --bg-color: #3B4455;\n",
              "      --fill-color: #D2E3FC;\n",
              "      --hover-bg-color: #434B5C;\n",
              "      --hover-fill-color: #FFFFFF;\n",
              "      --disabled-bg-color: #3B4455;\n",
              "      --disabled-fill-color: #666;\n",
              "  }\n",
              "\n",
              "  .colab-df-quickchart {\n",
              "    background-color: var(--bg-color);\n",
              "    border: none;\n",
              "    border-radius: 50%;\n",
              "    cursor: pointer;\n",
              "    display: none;\n",
              "    fill: var(--fill-color);\n",
              "    height: 32px;\n",
              "    padding: 0;\n",
              "    width: 32px;\n",
              "  }\n",
              "\n",
              "  .colab-df-quickchart:hover {\n",
              "    background-color: var(--hover-bg-color);\n",
              "    box-shadow: 0 1px 2px rgba(60, 64, 67, 0.3), 0 1px 3px 1px rgba(60, 64, 67, 0.15);\n",
              "    fill: var(--button-hover-fill-color);\n",
              "  }\n",
              "\n",
              "  .colab-df-quickchart-complete:disabled,\n",
              "  .colab-df-quickchart-complete:disabled:hover {\n",
              "    background-color: var(--disabled-bg-color);\n",
              "    fill: var(--disabled-fill-color);\n",
              "    box-shadow: none;\n",
              "  }\n",
              "\n",
              "  .colab-df-spinner {\n",
              "    border: 2px solid var(--fill-color);\n",
              "    border-color: transparent;\n",
              "    border-bottom-color: var(--fill-color);\n",
              "    animation:\n",
              "      spin 1s steps(1) infinite;\n",
              "  }\n",
              "\n",
              "  @keyframes spin {\n",
              "    0% {\n",
              "      border-color: transparent;\n",
              "      border-bottom-color: var(--fill-color);\n",
              "      border-left-color: var(--fill-color);\n",
              "    }\n",
              "    20% {\n",
              "      border-color: transparent;\n",
              "      border-left-color: var(--fill-color);\n",
              "      border-top-color: var(--fill-color);\n",
              "    }\n",
              "    30% {\n",
              "      border-color: transparent;\n",
              "      border-left-color: var(--fill-color);\n",
              "      border-top-color: var(--fill-color);\n",
              "      border-right-color: var(--fill-color);\n",
              "    }\n",
              "    40% {\n",
              "      border-color: transparent;\n",
              "      border-right-color: var(--fill-color);\n",
              "      border-top-color: var(--fill-color);\n",
              "    }\n",
              "    60% {\n",
              "      border-color: transparent;\n",
              "      border-right-color: var(--fill-color);\n",
              "    }\n",
              "    80% {\n",
              "      border-color: transparent;\n",
              "      border-right-color: var(--fill-color);\n",
              "      border-bottom-color: var(--fill-color);\n",
              "    }\n",
              "    90% {\n",
              "      border-color: transparent;\n",
              "      border-bottom-color: var(--fill-color);\n",
              "    }\n",
              "  }\n",
              "</style>\n",
              "\n",
              "  <script>\n",
              "    async function quickchart(key) {\n",
              "      const quickchartButtonEl =\n",
              "        document.querySelector('#' + key + ' button');\n",
              "      quickchartButtonEl.disabled = true;  // To prevent multiple clicks.\n",
              "      quickchartButtonEl.classList.add('colab-df-spinner');\n",
              "      try {\n",
              "        const charts = await google.colab.kernel.invokeFunction(\n",
              "            'suggestCharts', [key], {});\n",
              "      } catch (error) {\n",
              "        console.error('Error during call to suggestCharts:', error);\n",
              "      }\n",
              "      quickchartButtonEl.classList.remove('colab-df-spinner');\n",
              "      quickchartButtonEl.classList.add('colab-df-quickchart-complete');\n",
              "    }\n",
              "    (() => {\n",
              "      let quickchartButtonEl =\n",
              "        document.querySelector('#df-d549a65d-dcca-4332-a206-81d4cc5dfa4f button');\n",
              "      quickchartButtonEl.style.display =\n",
              "        google.colab.kernel.accessAllowed ? 'block' : 'none';\n",
              "    })();\n",
              "  </script>\n",
              "</div>\n",
              "\n",
              "  <div id=\"id_767f25c7-3015-4af7-9d5b-1f12893fb16b\">\n",
              "    <style>\n",
              "      .colab-df-generate {\n",
              "        background-color: #E8F0FE;\n",
              "        border: none;\n",
              "        border-radius: 50%;\n",
              "        cursor: pointer;\n",
              "        display: none;\n",
              "        fill: #1967D2;\n",
              "        height: 32px;\n",
              "        padding: 0 0 0 0;\n",
              "        width: 32px;\n",
              "      }\n",
              "\n",
              "      .colab-df-generate:hover {\n",
              "        background-color: #E2EBFA;\n",
              "        box-shadow: 0px 1px 2px rgba(60, 64, 67, 0.3), 0px 1px 3px 1px rgba(60, 64, 67, 0.15);\n",
              "        fill: #174EA6;\n",
              "      }\n",
              "\n",
              "      [theme=dark] .colab-df-generate {\n",
              "        background-color: #3B4455;\n",
              "        fill: #D2E3FC;\n",
              "      }\n",
              "\n",
              "      [theme=dark] .colab-df-generate:hover {\n",
              "        background-color: #434B5C;\n",
              "        box-shadow: 0px 1px 3px 1px rgba(0, 0, 0, 0.15);\n",
              "        filter: drop-shadow(0px 1px 2px rgba(0, 0, 0, 0.3));\n",
              "        fill: #FFFFFF;\n",
              "      }\n",
              "    </style>\n",
              "    <button class=\"colab-df-generate\" onclick=\"generateWithVariable('alunos')\"\n",
              "            title=\"Generate code using this dataframe.\"\n",
              "            style=\"display:none;\">\n",
              "\n",
              "  <svg xmlns=\"http://www.w3.org/2000/svg\" height=\"24px\"viewBox=\"0 0 24 24\"\n",
              "       width=\"24px\">\n",
              "    <path d=\"M7,19H8.4L18.45,9,17,7.55,7,17.6ZM5,21V16.75L18.45,3.32a2,2,0,0,1,2.83,0l1.4,1.43a1.91,1.91,0,0,1,.58,1.4,1.91,1.91,0,0,1-.58,1.4L9.25,21ZM18.45,9,17,7.55Zm-12,3A5.31,5.31,0,0,0,4.9,8.1,5.31,5.31,0,0,0,1,6.5,5.31,5.31,0,0,0,4.9,4.9,5.31,5.31,0,0,0,6.5,1,5.31,5.31,0,0,0,8.1,4.9,5.31,5.31,0,0,0,12,6.5,5.46,5.46,0,0,0,6.5,12Z\"/>\n",
              "  </svg>\n",
              "    </button>\n",
              "    <script>\n",
              "      (() => {\n",
              "      const buttonEl =\n",
              "        document.querySelector('#id_767f25c7-3015-4af7-9d5b-1f12893fb16b button.colab-df-generate');\n",
              "      buttonEl.style.display =\n",
              "        google.colab.kernel.accessAllowed ? 'block' : 'none';\n",
              "\n",
              "      buttonEl.onclick = () => {\n",
              "        google.colab.notebook.generateWithVariable('alunos');\n",
              "      }\n",
              "      })();\n",
              "    </script>\n",
              "  </div>\n",
              "\n",
              "    </div>\n",
              "  </div>\n"
            ],
            "text/plain": [
              "       tia              nome  nota\n",
              "0  1115665    ADRIANA FUJITA   7.7\n",
              "1  1115677   DANIEL HENRIQUE   7.7"
            ]
          },
          "metadata": {},
          "output_type": "display_data"
        }
      ],
      "source": [
        "#@title **Nota Final**\n",
        "\n",
        "nota = Resumo + 2*Grafo + 3*BFS + 5*Busca_Informada + Referencias + Geral\n",
        "\n",
        "nota = nota / 13\n",
        "\n",
        "print(f'Nota final do trabalho {nota :.1f}')\n",
        "\n",
        "import numpy as np\n",
        "import pandas as pd\n",
        "\n",
        "alunos = pd.DataFrame()\n",
        "\n",
        "lista_tia = []\n",
        "lista_nome = []\n",
        "\n",
        "for i in range(1,6):\n",
        "  exec(\"if Aluno\" + str(i) + \" !='None':  lista = Aluno\" + str(i) + \".split(','); lista_tia.append(lista[0]); lista_nome.append(lista[1].upper())\")\n",
        "\n",
        "alunos['tia'] = lista_tia\n",
        "alunos['nome'] = lista_nome\n",
        "alunos['nota'] = np.round(nota,1)\n",
        "print()\n",
        "display(alunos)"
      ]
    }
  ],
  "metadata": {
    "colab": {
      "provenance": [],
      "include_colab_link": true
    },
    "kernelspec": {
      "display_name": "Python 3",
      "language": "python",
      "name": "python3"
    },
    "language_info": {
      "codemirror_mode": {
        "name": "ipython",
        "version": 3
      },
      "file_extension": ".py",
      "mimetype": "text/x-python",
      "name": "python",
      "nbconvert_exporter": "python",
      "pygments_lexer": "ipython3",
      "version": "3.7.4"
    }
  },
  "nbformat": 4,
  "nbformat_minor": 0
}